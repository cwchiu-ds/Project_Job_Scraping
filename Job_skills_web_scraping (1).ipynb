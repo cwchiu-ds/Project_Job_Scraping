{
 "cells": [
  {
   "cell_type": "markdown",
   "metadata": {},
   "source": [
    "### Carol Chiu\n",
    "### April 22, 2020\n",
    "# Job Skills Web Scraping Project\n",
    "#####ClientX needs help with finding a Data Science job. He tasks me with going through as many Data Science job postings as I can to find out the most common skills employers are looking for so that he can learn them if necessary to boost his candidacy."
   ]
  },
  {
   "cell_type": "code",
   "execution_count": null,
   "metadata": {},
   "outputs": [],
   "source": [
    "import pandas as pd \n",
    "\n",
    "ten_df = pd.read_csv(\"10_jobs.csv\")\n",
    "df20 = pd.read_csv(\"20_jobs.csv\")"
   ]
  },
  {
   "cell_type": "code",
   "execution_count": 2,
   "metadata": {},
   "outputs": [],
   "source": [
    "df = pd.concat([ten_df,df20])"
   ]
  },
  {
   "cell_type": "code",
   "execution_count": 3,
   "metadata": {},
   "outputs": [
    {
     "data": {
      "text/html": [
       "<div>\n",
       "<style scoped>\n",
       "    .dataframe tbody tr th:only-of-type {\n",
       "        vertical-align: middle;\n",
       "    }\n",
       "\n",
       "    .dataframe tbody tr th {\n",
       "        vertical-align: top;\n",
       "    }\n",
       "\n",
       "    .dataframe thead th {\n",
       "        text-align: right;\n",
       "    }\n",
       "</style>\n",
       "<table border=\"1\" class=\"dataframe\">\n",
       "  <thead>\n",
       "    <tr style=\"text-align: right;\">\n",
       "      <th></th>\n",
       "      <th>Unnamed: 0</th>\n",
       "      <th>AWS</th>\n",
       "      <th>Alteryx</th>\n",
       "      <th>Athena</th>\n",
       "      <th>Azure</th>\n",
       "      <th>BI</th>\n",
       "      <th>Bayesian_statistics</th>\n",
       "      <th>C#</th>\n",
       "      <th>Cloud</th>\n",
       "      <th>ETL</th>\n",
       "      <th>...</th>\n",
       "      <th>Unnamed: 82</th>\n",
       "      <th>Unnamed: 83</th>\n",
       "      <th>unstructured_data</th>\n",
       "      <th>algorithm</th>\n",
       "      <th>probability</th>\n",
       "      <th>inference</th>\n",
       "      <th>data_wrangling</th>\n",
       "      <th>PowerPoint</th>\n",
       "      <th>Julia</th>\n",
       "      <th>RapidMiner</th>\n",
       "    </tr>\n",
       "  </thead>\n",
       "  <tbody>\n",
       "    <tr>\n",
       "      <th>0</th>\n",
       "      <td>0</td>\n",
       "      <td>0.0</td>\n",
       "      <td>0.0</td>\n",
       "      <td>0.0</td>\n",
       "      <td>0.0</td>\n",
       "      <td>0.0</td>\n",
       "      <td>0.0</td>\n",
       "      <td>0.0</td>\n",
       "      <td>0.0</td>\n",
       "      <td>0.0</td>\n",
       "      <td>...</td>\n",
       "      <td>NaN</td>\n",
       "      <td>NaN</td>\n",
       "      <td>NaN</td>\n",
       "      <td>NaN</td>\n",
       "      <td>NaN</td>\n",
       "      <td>NaN</td>\n",
       "      <td>NaN</td>\n",
       "      <td>NaN</td>\n",
       "      <td>NaN</td>\n",
       "      <td>NaN</td>\n",
       "    </tr>\n",
       "    <tr>\n",
       "      <th>1</th>\n",
       "      <td>1</td>\n",
       "      <td>0.0</td>\n",
       "      <td>1.0</td>\n",
       "      <td>0.0</td>\n",
       "      <td>0.0</td>\n",
       "      <td>0.0</td>\n",
       "      <td>0.0</td>\n",
       "      <td>0.0</td>\n",
       "      <td>0.0</td>\n",
       "      <td>0.0</td>\n",
       "      <td>...</td>\n",
       "      <td>NaN</td>\n",
       "      <td>NaN</td>\n",
       "      <td>NaN</td>\n",
       "      <td>NaN</td>\n",
       "      <td>NaN</td>\n",
       "      <td>NaN</td>\n",
       "      <td>NaN</td>\n",
       "      <td>NaN</td>\n",
       "      <td>NaN</td>\n",
       "      <td>NaN</td>\n",
       "    </tr>\n",
       "    <tr>\n",
       "      <th>2</th>\n",
       "      <td>2</td>\n",
       "      <td>0.0</td>\n",
       "      <td>0.0</td>\n",
       "      <td>0.0</td>\n",
       "      <td>0.0</td>\n",
       "      <td>0.0</td>\n",
       "      <td>0.0</td>\n",
       "      <td>0.0</td>\n",
       "      <td>0.0</td>\n",
       "      <td>0.0</td>\n",
       "      <td>...</td>\n",
       "      <td>NaN</td>\n",
       "      <td>NaN</td>\n",
       "      <td>NaN</td>\n",
       "      <td>NaN</td>\n",
       "      <td>NaN</td>\n",
       "      <td>NaN</td>\n",
       "      <td>NaN</td>\n",
       "      <td>NaN</td>\n",
       "      <td>NaN</td>\n",
       "      <td>NaN</td>\n",
       "    </tr>\n",
       "    <tr>\n",
       "      <th>3</th>\n",
       "      <td>3</td>\n",
       "      <td>0.0</td>\n",
       "      <td>0.0</td>\n",
       "      <td>0.0</td>\n",
       "      <td>0.0</td>\n",
       "      <td>0.0</td>\n",
       "      <td>0.0</td>\n",
       "      <td>0.0</td>\n",
       "      <td>1.0</td>\n",
       "      <td>0.0</td>\n",
       "      <td>...</td>\n",
       "      <td>NaN</td>\n",
       "      <td>NaN</td>\n",
       "      <td>NaN</td>\n",
       "      <td>NaN</td>\n",
       "      <td>NaN</td>\n",
       "      <td>NaN</td>\n",
       "      <td>NaN</td>\n",
       "      <td>NaN</td>\n",
       "      <td>NaN</td>\n",
       "      <td>NaN</td>\n",
       "    </tr>\n",
       "    <tr>\n",
       "      <th>4</th>\n",
       "      <td>4</td>\n",
       "      <td>2.0</td>\n",
       "      <td>0.0</td>\n",
       "      <td>0.0</td>\n",
       "      <td>0.0</td>\n",
       "      <td>1.0</td>\n",
       "      <td>0.0</td>\n",
       "      <td>0.0</td>\n",
       "      <td>2.0</td>\n",
       "      <td>1.0</td>\n",
       "      <td>...</td>\n",
       "      <td>NaN</td>\n",
       "      <td>NaN</td>\n",
       "      <td>NaN</td>\n",
       "      <td>NaN</td>\n",
       "      <td>NaN</td>\n",
       "      <td>NaN</td>\n",
       "      <td>NaN</td>\n",
       "      <td>NaN</td>\n",
       "      <td>NaN</td>\n",
       "      <td>NaN</td>\n",
       "    </tr>\n",
       "  </tbody>\n",
       "</table>\n",
       "<p>5 rows × 120 columns</p>\n",
       "</div>"
      ],
      "text/plain": [
       "   Unnamed: 0  AWS  Alteryx  Athena  Azure   BI  Bayesian_statistics   C#  \\\n",
       "0           0  0.0      0.0     0.0    0.0  0.0                  0.0  0.0   \n",
       "1           1  0.0      1.0     0.0    0.0  0.0                  0.0  0.0   \n",
       "2           2  0.0      0.0     0.0    0.0  0.0                  0.0  0.0   \n",
       "3           3  0.0      0.0     0.0    0.0  0.0                  0.0  0.0   \n",
       "4           4  2.0      0.0     0.0    0.0  1.0                  0.0  0.0   \n",
       "\n",
       "   Cloud  ETL  ...  Unnamed: 82  Unnamed: 83  unstructured_data  algorithm  \\\n",
       "0    0.0  0.0  ...          NaN          NaN                NaN        NaN   \n",
       "1    0.0  0.0  ...          NaN          NaN                NaN        NaN   \n",
       "2    0.0  0.0  ...          NaN          NaN                NaN        NaN   \n",
       "3    1.0  0.0  ...          NaN          NaN                NaN        NaN   \n",
       "4    2.0  1.0  ...          NaN          NaN                NaN        NaN   \n",
       "\n",
       "   probability  inference  data_wrangling  PowerPoint  Julia  RapidMiner  \n",
       "0          NaN        NaN             NaN         NaN    NaN         NaN  \n",
       "1          NaN        NaN             NaN         NaN    NaN         NaN  \n",
       "2          NaN        NaN             NaN         NaN    NaN         NaN  \n",
       "3          NaN        NaN             NaN         NaN    NaN         NaN  \n",
       "4          NaN        NaN             NaN         NaN    NaN         NaN  \n",
       "\n",
       "[5 rows x 120 columns]"
      ]
     },
     "execution_count": 3,
     "metadata": {},
     "output_type": "execute_result"
    }
   ],
   "source": [
    "df.head()"
   ]
  },
  {
   "cell_type": "code",
   "execution_count": 4,
   "metadata": {},
   "outputs": [],
   "source": [
    "df = df.fillna(0)"
   ]
  },
  {
   "cell_type": "code",
   "execution_count": 5,
   "metadata": {},
   "outputs": [],
   "source": [
    "list_total= list(df.sum(axis=0))"
   ]
  },
  {
   "cell_type": "code",
   "execution_count": 6,
   "metadata": {},
   "outputs": [],
   "source": [
    "row = pd.DataFrame(df.sum(axis=0)).T"
   ]
  },
  {
   "cell_type": "code",
   "execution_count": 7,
   "metadata": {},
   "outputs": [
    {
     "data": {
      "text/html": [
       "<div>\n",
       "<style scoped>\n",
       "    .dataframe tbody tr th:only-of-type {\n",
       "        vertical-align: middle;\n",
       "    }\n",
       "\n",
       "    .dataframe tbody tr th {\n",
       "        vertical-align: top;\n",
       "    }\n",
       "\n",
       "    .dataframe thead th {\n",
       "        text-align: right;\n",
       "    }\n",
       "</style>\n",
       "<table border=\"1\" class=\"dataframe\">\n",
       "  <thead>\n",
       "    <tr style=\"text-align: right;\">\n",
       "      <th></th>\n",
       "      <th>Unnamed: 0</th>\n",
       "      <th>AWS</th>\n",
       "      <th>Alteryx</th>\n",
       "      <th>Athena</th>\n",
       "      <th>Azure</th>\n",
       "      <th>BI</th>\n",
       "      <th>Bayesian_statistics</th>\n",
       "      <th>C#</th>\n",
       "      <th>Cloud</th>\n",
       "      <th>ETL</th>\n",
       "      <th>...</th>\n",
       "      <th>Unnamed: 82</th>\n",
       "      <th>Unnamed: 83</th>\n",
       "      <th>unstructured_data</th>\n",
       "      <th>algorithm</th>\n",
       "      <th>probability</th>\n",
       "      <th>inference</th>\n",
       "      <th>data_wrangling</th>\n",
       "      <th>PowerPoint</th>\n",
       "      <th>Julia</th>\n",
       "      <th>RapidMiner</th>\n",
       "    </tr>\n",
       "  </thead>\n",
       "  <tbody>\n",
       "    <tr>\n",
       "      <th>0</th>\n",
       "      <td>46.0</td>\n",
       "      <td>6.0</td>\n",
       "      <td>3.0</td>\n",
       "      <td>1.0</td>\n",
       "      <td>2.0</td>\n",
       "      <td>1.0</td>\n",
       "      <td>3.0</td>\n",
       "      <td>1.0</td>\n",
       "      <td>9.0</td>\n",
       "      <td>3.0</td>\n",
       "      <td>...</td>\n",
       "      <td>1.0</td>\n",
       "      <td>1.0</td>\n",
       "      <td>1.0</td>\n",
       "      <td>1.0</td>\n",
       "      <td>1.0</td>\n",
       "      <td>1.0</td>\n",
       "      <td>1.0</td>\n",
       "      <td>2.0</td>\n",
       "      <td>0.0</td>\n",
       "      <td>1.0</td>\n",
       "    </tr>\n",
       "  </tbody>\n",
       "</table>\n",
       "<p>1 rows × 119 columns</p>\n",
       "</div>"
      ],
      "text/plain": [
       "   Unnamed: 0  AWS  Alteryx  Athena  Azure   BI  Bayesian_statistics   C#  \\\n",
       "0        46.0  6.0      3.0     1.0    2.0  1.0                  3.0  1.0   \n",
       "\n",
       "   Cloud  ETL  ...  Unnamed: 82  Unnamed: 83  unstructured_data  algorithm  \\\n",
       "0    9.0  3.0  ...          1.0          1.0                1.0        1.0   \n",
       "\n",
       "   probability  inference  data_wrangling  PowerPoint  Julia  RapidMiner  \n",
       "0          1.0        1.0             1.0         2.0    0.0         1.0  \n",
       "\n",
       "[1 rows x 119 columns]"
      ]
     },
     "execution_count": 7,
     "metadata": {},
     "output_type": "execute_result"
    }
   ],
   "source": [
    "row"
   ]
  },
  {
   "cell_type": "code",
   "execution_count": 8,
   "metadata": {},
   "outputs": [],
   "source": [
    "df = pd.concat([df,row])"
   ]
  },
  {
   "cell_type": "code",
   "execution_count": 9,
   "metadata": {},
   "outputs": [],
   "source": [
    "df = df.drop(\"Unnamed: 0\", axis = 1)"
   ]
  },
  {
   "cell_type": "code",
   "execution_count": 10,
   "metadata": {},
   "outputs": [],
   "source": [
    "df = df.reset_index(drop=True)"
   ]
  },
  {
   "cell_type": "code",
   "execution_count": 11,
   "metadata": {},
   "outputs": [],
   "source": [
    "df.index.names = ['Key_Skills']"
   ]
  },
  {
   "cell_type": "code",
   "execution_count": 12,
   "metadata": {},
   "outputs": [],
   "source": [
    "df =df.rename(index={0:\"Job_Posting1\", 1:\"Job_Posting2\", 2:\"Job_Posting3\", 3:\"Job_Posting4\",4:\"Job_Posting5\",5:\"Job_Posting6\",6:\"Job_Posting7\", 7:\"Job_Posting8\", 8:\"Job_Posting9\", 9:\"Job_Posting10\", 10: \"Job_Posting11\", 11: \"Job_Posting12\", 12:\"Job_Posting13\",13: \"Job_Posting14\",14:\"Job_Posting15\",15:\"Job_Posting16\", 16:\"Job_Posting17\",17:\"Job_Posting18\",18: \"Job_Posting19\",19:\"Job_Posting20\",20:\"Job_Posting21\", 21:\"Job_Posting22\",22:\"Job_Posting23\",23: \"Job_Posting14\",24:\"Job_Posting25\",25:\"Job_Posting26\", 26:\"Job_Posting27\",27:\"Job_Posting28\",28: \"Job_Posting29\",29:\"Job_Posting30\",30:\"Total_Count\"})"
   ]
  },
  {
   "cell_type": "code",
   "execution_count": 13,
   "metadata": {},
   "outputs": [
    {
     "data": {
      "text/html": [
       "<div>\n",
       "<style scoped>\n",
       "    .dataframe tbody tr th:only-of-type {\n",
       "        vertical-align: middle;\n",
       "    }\n",
       "\n",
       "    .dataframe tbody tr th {\n",
       "        vertical-align: top;\n",
       "    }\n",
       "\n",
       "    .dataframe thead th {\n",
       "        text-align: right;\n",
       "    }\n",
       "</style>\n",
       "<table border=\"1\" class=\"dataframe\">\n",
       "  <thead>\n",
       "    <tr style=\"text-align: right;\">\n",
       "      <th></th>\n",
       "      <th>AWS</th>\n",
       "      <th>Alteryx</th>\n",
       "      <th>Athena</th>\n",
       "      <th>Azure</th>\n",
       "      <th>BI</th>\n",
       "      <th>Bayesian_statistics</th>\n",
       "      <th>C#</th>\n",
       "      <th>Cloud</th>\n",
       "      <th>ETL</th>\n",
       "      <th>Excel</th>\n",
       "      <th>...</th>\n",
       "      <th>Unnamed: 82</th>\n",
       "      <th>Unnamed: 83</th>\n",
       "      <th>unstructured_data</th>\n",
       "      <th>algorithm</th>\n",
       "      <th>probability</th>\n",
       "      <th>inference</th>\n",
       "      <th>data_wrangling</th>\n",
       "      <th>PowerPoint</th>\n",
       "      <th>Julia</th>\n",
       "      <th>RapidMiner</th>\n",
       "    </tr>\n",
       "    <tr>\n",
       "      <th>Key_Skills</th>\n",
       "      <th></th>\n",
       "      <th></th>\n",
       "      <th></th>\n",
       "      <th></th>\n",
       "      <th></th>\n",
       "      <th></th>\n",
       "      <th></th>\n",
       "      <th></th>\n",
       "      <th></th>\n",
       "      <th></th>\n",
       "      <th></th>\n",
       "      <th></th>\n",
       "      <th></th>\n",
       "      <th></th>\n",
       "      <th></th>\n",
       "      <th></th>\n",
       "      <th></th>\n",
       "      <th></th>\n",
       "      <th></th>\n",
       "      <th></th>\n",
       "      <th></th>\n",
       "    </tr>\n",
       "  </thead>\n",
       "  <tbody>\n",
       "    <tr>\n",
       "      <th>Job_Posting1</th>\n",
       "      <td>0.0</td>\n",
       "      <td>0.0</td>\n",
       "      <td>0.0</td>\n",
       "      <td>0.0</td>\n",
       "      <td>0.0</td>\n",
       "      <td>0.0</td>\n",
       "      <td>0.0</td>\n",
       "      <td>0.0</td>\n",
       "      <td>0.0</td>\n",
       "      <td>0.0</td>\n",
       "      <td>...</td>\n",
       "      <td>0.0</td>\n",
       "      <td>0.0</td>\n",
       "      <td>0.0</td>\n",
       "      <td>0.0</td>\n",
       "      <td>0.0</td>\n",
       "      <td>0.0</td>\n",
       "      <td>0.0</td>\n",
       "      <td>0.0</td>\n",
       "      <td>0.0</td>\n",
       "      <td>0.0</td>\n",
       "    </tr>\n",
       "    <tr>\n",
       "      <th>Job_Posting2</th>\n",
       "      <td>0.0</td>\n",
       "      <td>1.0</td>\n",
       "      <td>0.0</td>\n",
       "      <td>0.0</td>\n",
       "      <td>0.0</td>\n",
       "      <td>0.0</td>\n",
       "      <td>0.0</td>\n",
       "      <td>0.0</td>\n",
       "      <td>0.0</td>\n",
       "      <td>0.0</td>\n",
       "      <td>...</td>\n",
       "      <td>0.0</td>\n",
       "      <td>0.0</td>\n",
       "      <td>0.0</td>\n",
       "      <td>0.0</td>\n",
       "      <td>0.0</td>\n",
       "      <td>0.0</td>\n",
       "      <td>0.0</td>\n",
       "      <td>0.0</td>\n",
       "      <td>0.0</td>\n",
       "      <td>0.0</td>\n",
       "    </tr>\n",
       "    <tr>\n",
       "      <th>Job_Posting3</th>\n",
       "      <td>0.0</td>\n",
       "      <td>0.0</td>\n",
       "      <td>0.0</td>\n",
       "      <td>0.0</td>\n",
       "      <td>0.0</td>\n",
       "      <td>0.0</td>\n",
       "      <td>0.0</td>\n",
       "      <td>0.0</td>\n",
       "      <td>0.0</td>\n",
       "      <td>1.0</td>\n",
       "      <td>...</td>\n",
       "      <td>0.0</td>\n",
       "      <td>0.0</td>\n",
       "      <td>0.0</td>\n",
       "      <td>0.0</td>\n",
       "      <td>0.0</td>\n",
       "      <td>0.0</td>\n",
       "      <td>0.0</td>\n",
       "      <td>0.0</td>\n",
       "      <td>0.0</td>\n",
       "      <td>0.0</td>\n",
       "    </tr>\n",
       "    <tr>\n",
       "      <th>Job_Posting4</th>\n",
       "      <td>0.0</td>\n",
       "      <td>0.0</td>\n",
       "      <td>0.0</td>\n",
       "      <td>0.0</td>\n",
       "      <td>0.0</td>\n",
       "      <td>0.0</td>\n",
       "      <td>0.0</td>\n",
       "      <td>1.0</td>\n",
       "      <td>0.0</td>\n",
       "      <td>0.0</td>\n",
       "      <td>...</td>\n",
       "      <td>0.0</td>\n",
       "      <td>0.0</td>\n",
       "      <td>0.0</td>\n",
       "      <td>0.0</td>\n",
       "      <td>0.0</td>\n",
       "      <td>0.0</td>\n",
       "      <td>0.0</td>\n",
       "      <td>0.0</td>\n",
       "      <td>0.0</td>\n",
       "      <td>0.0</td>\n",
       "    </tr>\n",
       "    <tr>\n",
       "      <th>Job_Posting5</th>\n",
       "      <td>2.0</td>\n",
       "      <td>0.0</td>\n",
       "      <td>0.0</td>\n",
       "      <td>0.0</td>\n",
       "      <td>1.0</td>\n",
       "      <td>0.0</td>\n",
       "      <td>0.0</td>\n",
       "      <td>2.0</td>\n",
       "      <td>1.0</td>\n",
       "      <td>0.0</td>\n",
       "      <td>...</td>\n",
       "      <td>0.0</td>\n",
       "      <td>0.0</td>\n",
       "      <td>0.0</td>\n",
       "      <td>0.0</td>\n",
       "      <td>0.0</td>\n",
       "      <td>0.0</td>\n",
       "      <td>0.0</td>\n",
       "      <td>0.0</td>\n",
       "      <td>0.0</td>\n",
       "      <td>0.0</td>\n",
       "    </tr>\n",
       "  </tbody>\n",
       "</table>\n",
       "<p>5 rows × 119 columns</p>\n",
       "</div>"
      ],
      "text/plain": [
       "              AWS  Alteryx  Athena  Azure   BI  Bayesian_statistics   C#  \\\n",
       "Key_Skills                                                                 \n",
       "Job_Posting1  0.0      0.0     0.0    0.0  0.0                  0.0  0.0   \n",
       "Job_Posting2  0.0      1.0     0.0    0.0  0.0                  0.0  0.0   \n",
       "Job_Posting3  0.0      0.0     0.0    0.0  0.0                  0.0  0.0   \n",
       "Job_Posting4  0.0      0.0     0.0    0.0  0.0                  0.0  0.0   \n",
       "Job_Posting5  2.0      0.0     0.0    0.0  1.0                  0.0  0.0   \n",
       "\n",
       "              Cloud  ETL  Excel  ...  Unnamed: 82  Unnamed: 83  \\\n",
       "Key_Skills                       ...                             \n",
       "Job_Posting1    0.0  0.0    0.0  ...          0.0          0.0   \n",
       "Job_Posting2    0.0  0.0    0.0  ...          0.0          0.0   \n",
       "Job_Posting3    0.0  0.0    1.0  ...          0.0          0.0   \n",
       "Job_Posting4    1.0  0.0    0.0  ...          0.0          0.0   \n",
       "Job_Posting5    2.0  1.0    0.0  ...          0.0          0.0   \n",
       "\n",
       "              unstructured_data  algorithm  probability  inference  \\\n",
       "Key_Skills                                                           \n",
       "Job_Posting1                0.0        0.0          0.0        0.0   \n",
       "Job_Posting2                0.0        0.0          0.0        0.0   \n",
       "Job_Posting3                0.0        0.0          0.0        0.0   \n",
       "Job_Posting4                0.0        0.0          0.0        0.0   \n",
       "Job_Posting5                0.0        0.0          0.0        0.0   \n",
       "\n",
       "              data_wrangling  PowerPoint  Julia  RapidMiner  \n",
       "Key_Skills                                                   \n",
       "Job_Posting1             0.0         0.0    0.0         0.0  \n",
       "Job_Posting2             0.0         0.0    0.0         0.0  \n",
       "Job_Posting3             0.0         0.0    0.0         0.0  \n",
       "Job_Posting4             0.0         0.0    0.0         0.0  \n",
       "Job_Posting5             0.0         0.0    0.0         0.0  \n",
       "\n",
       "[5 rows x 119 columns]"
      ]
     },
     "execution_count": 13,
     "metadata": {},
     "output_type": "execute_result"
    }
   ],
   "source": [
    "df.head()"
   ]
  },
  {
   "cell_type": "code",
   "execution_count": 14,
   "metadata": {},
   "outputs": [],
   "source": [
    "count = df.iloc[30]"
   ]
  },
  {
   "cell_type": "code",
   "execution_count": 15,
   "metadata": {},
   "outputs": [
    {
     "data": {
      "text/plain": [
       "AWS               6\n",
       "Alteryx           3\n",
       "Athena            1\n",
       "Azure             2\n",
       "BI                1\n",
       "                 ..\n",
       "inference         1\n",
       "data_wrangling    1\n",
       "PowerPoint        2\n",
       "Julia             0\n",
       "RapidMiner        1\n",
       "Name: Total_Count, Length: 119, dtype: object"
      ]
     },
     "execution_count": 15,
     "metadata": {},
     "output_type": "execute_result"
    }
   ],
   "source": [
    "count"
   ]
  },
  {
   "cell_type": "code",
   "execution_count": 16,
   "metadata": {},
   "outputs": [
    {
     "name": "stdout",
     "output_type": "stream",
     "text": [
      "6.0\n",
      "9.0\n",
      "7.0\n",
      "6.0\n",
      "10.0\n",
      "32.0\n",
      "31.0\n",
      "29.0\n",
      "6.0\n",
      "6.0\n",
      "11.0\n",
      "6.0\n",
      "23.0\n",
      "7.0\n",
      "6.0\n",
      "33.0\n",
      "10.0\n",
      "36.0\n",
      "7.0\n"
     ]
    }
   ],
   "source": [
    "#Search for skills that appear in over 20% of postings\n",
    "for each in count:\n",
    "    if each >= 6.0:\n",
    "        print(each)"
   ]
  },
  {
   "cell_type": "code",
   "execution_count": 17,
   "metadata": {},
   "outputs": [
    {
     "data": {
      "text/plain": [
       "Index(['AWS', 'Hive', 'Spark', 'Tableau', 'artificial_intelligence',\n",
       "       'forecasting'],\n",
       "      dtype='object')"
      ]
     },
     "execution_count": 17,
     "metadata": {},
     "output_type": "execute_result"
    }
   ],
   "source": [
    "df.columns[df.isin([6.0]).any()]"
   ]
  },
  {
   "cell_type": "code",
   "execution_count": 18,
   "metadata": {},
   "outputs": [
    {
     "data": {
      "text/plain": [
       "Index(['Excel', 'data_mining', 'machine_learning', 'statistics',\n",
       "       'time_series'],\n",
       "      dtype='object')"
      ]
     },
     "execution_count": 18,
     "metadata": {},
     "output_type": "execute_result"
    }
   ],
   "source": [
    "df.columns[df.isin([7.0]).any()]"
   ]
  },
  {
   "cell_type": "code",
   "execution_count": 19,
   "metadata": {},
   "outputs": [
    {
     "data": {
      "text/plain": [
       "Index(['Cloud'], dtype='object')"
      ]
     },
     "execution_count": 19,
     "metadata": {},
     "output_type": "execute_result"
    }
   ],
   "source": [
    "df.columns[df.isin([9.0]).any()]"
   ]
  },
  {
   "cell_type": "code",
   "execution_count": 20,
   "metadata": {},
   "outputs": [
    {
     "data": {
      "text/plain": [
       "Index(['Matlab', 'predictive_modeling'], dtype='object')"
      ]
     },
     "execution_count": 20,
     "metadata": {},
     "output_type": "execute_result"
    }
   ],
   "source": [
    "df.columns[df.isin([10.0]).any()]"
   ]
  },
  {
   "cell_type": "code",
   "execution_count": 21,
   "metadata": {},
   "outputs": [
    {
     "data": {
      "text/plain": [
       "Index(['algorithms'], dtype='object')"
      ]
     },
     "execution_count": 21,
     "metadata": {},
     "output_type": "execute_result"
    }
   ],
   "source": [
    "df.columns[df.isin([11.0]).any()]"
   ]
  },
  {
   "cell_type": "code",
   "execution_count": 22,
   "metadata": {},
   "outputs": [
    {
     "data": {
      "text/plain": [
       "Index(['data_analytics'], dtype='object')"
      ]
     },
     "execution_count": 22,
     "metadata": {},
     "output_type": "execute_result"
    }
   ],
   "source": [
    "df.columns[df.isin([23.0]).any()]"
   ]
  },
  {
   "cell_type": "code",
   "execution_count": 23,
   "metadata": {},
   "outputs": [],
   "source": [
    "#Create a percentage column\n",
    "perc = df.iloc[30, :]/30*100"
   ]
  },
  {
   "cell_type": "code",
   "execution_count": 24,
   "metadata": {},
   "outputs": [],
   "source": [
    "percdf = pd.DataFrame(perc).T"
   ]
  },
  {
   "cell_type": "code",
   "execution_count": 25,
   "metadata": {},
   "outputs": [
    {
     "data": {
      "text/html": [
       "<div>\n",
       "<style scoped>\n",
       "    .dataframe tbody tr th:only-of-type {\n",
       "        vertical-align: middle;\n",
       "    }\n",
       "\n",
       "    .dataframe tbody tr th {\n",
       "        vertical-align: top;\n",
       "    }\n",
       "\n",
       "    .dataframe thead th {\n",
       "        text-align: right;\n",
       "    }\n",
       "</style>\n",
       "<table border=\"1\" class=\"dataframe\">\n",
       "  <thead>\n",
       "    <tr style=\"text-align: right;\">\n",
       "      <th></th>\n",
       "      <th>AWS</th>\n",
       "      <th>Alteryx</th>\n",
       "      <th>Athena</th>\n",
       "      <th>Azure</th>\n",
       "      <th>BI</th>\n",
       "      <th>Bayesian_statistics</th>\n",
       "      <th>C#</th>\n",
       "      <th>Cloud</th>\n",
       "      <th>ETL</th>\n",
       "      <th>Excel</th>\n",
       "      <th>...</th>\n",
       "      <th>Unnamed: 82</th>\n",
       "      <th>Unnamed: 83</th>\n",
       "      <th>unstructured_data</th>\n",
       "      <th>algorithm</th>\n",
       "      <th>probability</th>\n",
       "      <th>inference</th>\n",
       "      <th>data_wrangling</th>\n",
       "      <th>PowerPoint</th>\n",
       "      <th>Julia</th>\n",
       "      <th>RapidMiner</th>\n",
       "    </tr>\n",
       "  </thead>\n",
       "  <tbody>\n",
       "    <tr>\n",
       "      <th>Total_Count</th>\n",
       "      <td>20</td>\n",
       "      <td>10</td>\n",
       "      <td>3.33333</td>\n",
       "      <td>6.66667</td>\n",
       "      <td>3.33333</td>\n",
       "      <td>10</td>\n",
       "      <td>3.33333</td>\n",
       "      <td>30</td>\n",
       "      <td>10</td>\n",
       "      <td>23.3333</td>\n",
       "      <td>...</td>\n",
       "      <td>3.33333</td>\n",
       "      <td>3.33333</td>\n",
       "      <td>3.33333</td>\n",
       "      <td>3.33333</td>\n",
       "      <td>3.33333</td>\n",
       "      <td>3.33333</td>\n",
       "      <td>3.33333</td>\n",
       "      <td>6.66667</td>\n",
       "      <td>0</td>\n",
       "      <td>3.33333</td>\n",
       "    </tr>\n",
       "  </tbody>\n",
       "</table>\n",
       "<p>1 rows × 119 columns</p>\n",
       "</div>"
      ],
      "text/plain": [
       "            AWS Alteryx   Athena    Azure       BI Bayesian_statistics  \\\n",
       "Total_Count  20      10  3.33333  6.66667  3.33333                  10   \n",
       "\n",
       "                  C# Cloud ETL    Excel  ... Unnamed: 82 Unnamed: 83  \\\n",
       "Total_Count  3.33333    30  10  23.3333  ...     3.33333     3.33333   \n",
       "\n",
       "            unstructured_data algorithm probability inference data_wrangling  \\\n",
       "Total_Count           3.33333   3.33333     3.33333   3.33333        3.33333   \n",
       "\n",
       "            PowerPoint Julia RapidMiner  \n",
       "Total_Count    6.66667     0    3.33333  \n",
       "\n",
       "[1 rows x 119 columns]"
      ]
     },
     "execution_count": 25,
     "metadata": {},
     "output_type": "execute_result"
    }
   ],
   "source": [
    "percdf"
   ]
  },
  {
   "cell_type": "code",
   "execution_count": 26,
   "metadata": {},
   "outputs": [],
   "source": [
    "percdf =percdf.rename(index={\"Total_Count\": \"Perc_Count\"})"
   ]
  },
  {
   "cell_type": "code",
   "execution_count": 27,
   "metadata": {},
   "outputs": [],
   "source": [
    "df = pd.concat([df,percdf])"
   ]
  },
  {
   "cell_type": "code",
   "execution_count": 28,
   "metadata": {},
   "outputs": [
    {
     "data": {
      "text/html": [
       "<div>\n",
       "<style scoped>\n",
       "    .dataframe tbody tr th:only-of-type {\n",
       "        vertical-align: middle;\n",
       "    }\n",
       "\n",
       "    .dataframe tbody tr th {\n",
       "        vertical-align: top;\n",
       "    }\n",
       "\n",
       "    .dataframe thead th {\n",
       "        text-align: right;\n",
       "    }\n",
       "</style>\n",
       "<table border=\"1\" class=\"dataframe\">\n",
       "  <thead>\n",
       "    <tr style=\"text-align: right;\">\n",
       "      <th></th>\n",
       "      <th>AWS</th>\n",
       "      <th>Alteryx</th>\n",
       "      <th>Athena</th>\n",
       "      <th>Azure</th>\n",
       "      <th>BI</th>\n",
       "      <th>Bayesian_statistics</th>\n",
       "      <th>C#</th>\n",
       "      <th>Cloud</th>\n",
       "      <th>ETL</th>\n",
       "      <th>Excel</th>\n",
       "      <th>...</th>\n",
       "      <th>Unnamed: 82</th>\n",
       "      <th>Unnamed: 83</th>\n",
       "      <th>unstructured_data</th>\n",
       "      <th>algorithm</th>\n",
       "      <th>probability</th>\n",
       "      <th>inference</th>\n",
       "      <th>data_wrangling</th>\n",
       "      <th>PowerPoint</th>\n",
       "      <th>Julia</th>\n",
       "      <th>RapidMiner</th>\n",
       "    </tr>\n",
       "  </thead>\n",
       "  <tbody>\n",
       "    <tr>\n",
       "      <th>Job_Posting1</th>\n",
       "      <td>0</td>\n",
       "      <td>0</td>\n",
       "      <td>0</td>\n",
       "      <td>0</td>\n",
       "      <td>0</td>\n",
       "      <td>0</td>\n",
       "      <td>0</td>\n",
       "      <td>0</td>\n",
       "      <td>0</td>\n",
       "      <td>0</td>\n",
       "      <td>...</td>\n",
       "      <td>0</td>\n",
       "      <td>0</td>\n",
       "      <td>0</td>\n",
       "      <td>0</td>\n",
       "      <td>0</td>\n",
       "      <td>0</td>\n",
       "      <td>0</td>\n",
       "      <td>0</td>\n",
       "      <td>0</td>\n",
       "      <td>0</td>\n",
       "    </tr>\n",
       "    <tr>\n",
       "      <th>Job_Posting2</th>\n",
       "      <td>0</td>\n",
       "      <td>1</td>\n",
       "      <td>0</td>\n",
       "      <td>0</td>\n",
       "      <td>0</td>\n",
       "      <td>0</td>\n",
       "      <td>0</td>\n",
       "      <td>0</td>\n",
       "      <td>0</td>\n",
       "      <td>0</td>\n",
       "      <td>...</td>\n",
       "      <td>0</td>\n",
       "      <td>0</td>\n",
       "      <td>0</td>\n",
       "      <td>0</td>\n",
       "      <td>0</td>\n",
       "      <td>0</td>\n",
       "      <td>0</td>\n",
       "      <td>0</td>\n",
       "      <td>0</td>\n",
       "      <td>0</td>\n",
       "    </tr>\n",
       "    <tr>\n",
       "      <th>Job_Posting3</th>\n",
       "      <td>0</td>\n",
       "      <td>0</td>\n",
       "      <td>0</td>\n",
       "      <td>0</td>\n",
       "      <td>0</td>\n",
       "      <td>0</td>\n",
       "      <td>0</td>\n",
       "      <td>0</td>\n",
       "      <td>0</td>\n",
       "      <td>1</td>\n",
       "      <td>...</td>\n",
       "      <td>0</td>\n",
       "      <td>0</td>\n",
       "      <td>0</td>\n",
       "      <td>0</td>\n",
       "      <td>0</td>\n",
       "      <td>0</td>\n",
       "      <td>0</td>\n",
       "      <td>0</td>\n",
       "      <td>0</td>\n",
       "      <td>0</td>\n",
       "    </tr>\n",
       "    <tr>\n",
       "      <th>Job_Posting4</th>\n",
       "      <td>0</td>\n",
       "      <td>0</td>\n",
       "      <td>0</td>\n",
       "      <td>0</td>\n",
       "      <td>0</td>\n",
       "      <td>0</td>\n",
       "      <td>0</td>\n",
       "      <td>1</td>\n",
       "      <td>0</td>\n",
       "      <td>0</td>\n",
       "      <td>...</td>\n",
       "      <td>0</td>\n",
       "      <td>0</td>\n",
       "      <td>0</td>\n",
       "      <td>0</td>\n",
       "      <td>0</td>\n",
       "      <td>0</td>\n",
       "      <td>0</td>\n",
       "      <td>0</td>\n",
       "      <td>0</td>\n",
       "      <td>0</td>\n",
       "    </tr>\n",
       "    <tr>\n",
       "      <th>Job_Posting5</th>\n",
       "      <td>2</td>\n",
       "      <td>0</td>\n",
       "      <td>0</td>\n",
       "      <td>0</td>\n",
       "      <td>1</td>\n",
       "      <td>0</td>\n",
       "      <td>0</td>\n",
       "      <td>2</td>\n",
       "      <td>1</td>\n",
       "      <td>0</td>\n",
       "      <td>...</td>\n",
       "      <td>0</td>\n",
       "      <td>0</td>\n",
       "      <td>0</td>\n",
       "      <td>0</td>\n",
       "      <td>0</td>\n",
       "      <td>0</td>\n",
       "      <td>0</td>\n",
       "      <td>0</td>\n",
       "      <td>0</td>\n",
       "      <td>0</td>\n",
       "    </tr>\n",
       "  </tbody>\n",
       "</table>\n",
       "<p>5 rows × 119 columns</p>\n",
       "</div>"
      ],
      "text/plain": [
       "             AWS Alteryx Athena Azure BI Bayesian_statistics C# Cloud ETL  \\\n",
       "Job_Posting1   0       0      0     0  0                   0  0     0   0   \n",
       "Job_Posting2   0       1      0     0  0                   0  0     0   0   \n",
       "Job_Posting3   0       0      0     0  0                   0  0     0   0   \n",
       "Job_Posting4   0       0      0     0  0                   0  0     1   0   \n",
       "Job_Posting5   2       0      0     0  1                   0  0     2   1   \n",
       "\n",
       "             Excel  ... Unnamed: 82 Unnamed: 83 unstructured_data algorithm  \\\n",
       "Job_Posting1     0  ...           0           0                 0         0   \n",
       "Job_Posting2     0  ...           0           0                 0         0   \n",
       "Job_Posting3     1  ...           0           0                 0         0   \n",
       "Job_Posting4     0  ...           0           0                 0         0   \n",
       "Job_Posting5     0  ...           0           0                 0         0   \n",
       "\n",
       "             probability inference data_wrangling PowerPoint Julia RapidMiner  \n",
       "Job_Posting1           0         0              0          0     0          0  \n",
       "Job_Posting2           0         0              0          0     0          0  \n",
       "Job_Posting3           0         0              0          0     0          0  \n",
       "Job_Posting4           0         0              0          0     0          0  \n",
       "Job_Posting5           0         0              0          0     0          0  \n",
       "\n",
       "[5 rows x 119 columns]"
      ]
     },
     "execution_count": 28,
     "metadata": {},
     "output_type": "execute_result"
    }
   ],
   "source": [
    "df.head()"
   ]
  },
  {
   "cell_type": "code",
   "execution_count": 29,
   "metadata": {},
   "outputs": [
    {
     "data": {
      "text/plain": [
       "20.0"
      ]
     },
     "execution_count": 29,
     "metadata": {},
     "output_type": "execute_result"
    }
   ],
   "source": [
    "#Return counts for core skills\n",
    "df['AWS'].iloc[31]"
   ]
  },
  {
   "cell_type": "code",
   "execution_count": 30,
   "metadata": {},
   "outputs": [
    {
     "data": {
      "text/plain": [
       "6.0"
      ]
     },
     "execution_count": 30,
     "metadata": {},
     "output_type": "execute_result"
    }
   ],
   "source": [
    "df['AWS'].iloc[30]"
   ]
  },
  {
   "cell_type": "code",
   "execution_count": 31,
   "metadata": {},
   "outputs": [
    {
     "data": {
      "text/plain": [
       "20.0"
      ]
     },
     "execution_count": 31,
     "metadata": {},
     "output_type": "execute_result"
    }
   ],
   "source": [
    "df['Hive'].iloc[31]"
   ]
  },
  {
   "cell_type": "code",
   "execution_count": 32,
   "metadata": {},
   "outputs": [
    {
     "data": {
      "text/plain": [
       "6.0"
      ]
     },
     "execution_count": 32,
     "metadata": {},
     "output_type": "execute_result"
    }
   ],
   "source": [
    "df['Hive'].iloc[30]"
   ]
  },
  {
   "cell_type": "code",
   "execution_count": 33,
   "metadata": {},
   "outputs": [
    {
     "name": "stderr",
     "output_type": "stream",
     "text": [
      "\n",
      "Bad key \"text.kerning_factor\" on line 4 in\n",
      "/anaconda3/lib/python3.7/site-packages/matplotlib/mpl-data/stylelib/_classic_test_patch.mplstyle.\n",
      "You probably need to get an updated matplotlibrc file from\n",
      "http://github.com/matplotlib/matplotlib/blob/master/matplotlibrc.template\n",
      "or from the matplotlib source distribution\n"
     ]
    },
    {
     "data": {
      "image/png": "[encoded data removed]",
      "text/plain": [
       "<Figure size 432x288 with 1 Axes>"
      ]
     },
     "metadata": {
      "needs_background": "light"
     },
     "output_type": "display_data"
    }
   ],
   "source": [
    "import matplotlib.pyplot as plt\n",
    "#Plot of counts of less common skills\n",
    "dfnew = pd.DataFrame({'lab':['AWS', 'Hive', 'Spark',\"Tableau\",\"AI\",\"Forecasting\",\"Excel\",\"Time Series\",\"Cloud\"], 'val':[20.0, 20.0, 20.0, 20.0, 20.0, 20.0, 23.33,23.33,30.0]})\n",
    "ax = dfnew.plot.bar(x='lab', y='val', rot=0)\n"
   ]
  },
  {
   "cell_type": "code",
   "execution_count": 36,
   "metadata": {},
   "outputs": [
    {
     "data": {
      "text/plain": [
       "<Figure size 7200x2880 with 0 Axes>"
      ]
     },
     "metadata": {},
     "output_type": "display_data"
    },
    {
     "data": {
      "image/png": "[encoded data removed]",
      "text/plain": [
       "<Figure size 432x288 with 1 Axes>"
      ]
     },
     "metadata": {
      "needs_background": "light"
     },
     "output_type": "display_data"
    }
   ],
   "source": [
    "#Plot of counts of the less common skills with overall percentages\n",
    "fig = plt.figure(figsize=(100,40))\n",
    "count = [6, 6, 6, 6, 6, 6, 7,7,9]\n",
    "percentage = [20.0, 20.0, 20.0, 20.0, 20.0, 20.0, 23.33,23.33,30.0]\n",
    "index = ['AWS', 'Hive', 'Spark',\"Tableau\",\"Artificial Intelligence\",\"Forecasting\",\"Excel\",\"Time Series\",\"Google Cloud\"]\n",
    "dfnew2 = pd.DataFrame({'count': count,\n",
    "                   'percentage': percentage}, index=index)\n",
    "ax = dfnew2.plot.bar(rot=60)\n",
    "plt.title(\"Counts for Less Common Skills for Data Science Jobs \");"
   ]
  },
  {
   "cell_type": "code",
   "execution_count": 37,
   "metadata": {},
   "outputs": [
    {
     "data": {
      "text/plain": [
       "33.33333333333333"
      ]
     },
     "execution_count": 37,
     "metadata": {},
     "output_type": "execute_result"
    }
   ],
   "source": [
    "df['predictive_modeling'].iloc[31]"
   ]
  },
  {
   "cell_type": "code",
   "execution_count": 38,
   "metadata": {},
   "outputs": [
    {
     "data": {
      "text/plain": [
       "10.0"
      ]
     },
     "execution_count": 38,
     "metadata": {},
     "output_type": "execute_result"
    }
   ],
   "source": [
    "df['predictive_modeling'].iloc[30]"
   ]
  },
  {
   "cell_type": "code",
   "execution_count": 39,
   "metadata": {},
   "outputs": [
    {
     "data": {
      "text/plain": [
       "33.33333333333333"
      ]
     },
     "execution_count": 39,
     "metadata": {},
     "output_type": "execute_result"
    }
   ],
   "source": [
    "df['Matlab'].iloc[31]"
   ]
  },
  {
   "cell_type": "code",
   "execution_count": 40,
   "metadata": {},
   "outputs": [
    {
     "data": {
      "text/plain": [
       "36.666666666666664"
      ]
     },
     "execution_count": 40,
     "metadata": {},
     "output_type": "execute_result"
    }
   ],
   "source": [
    "df['algorithms'].iloc[31]"
   ]
  },
  {
   "cell_type": "code",
   "execution_count": null,
   "metadata": {},
   "outputs": [],
   "source": []
  },
  {
   "cell_type": "code",
   "execution_count": 35,
   "metadata": {},
   "outputs": [
    {
     "data": {
      "text/plain": [
       "<Figure size 7200x2880 with 0 Axes>"
      ]
     },
     "metadata": {},
     "output_type": "display_data"
    },
    {
     "data": {
      "image/png": "[encoded data removed]",
      "text/plain": [
       "<Figure size 432x288 with 1 Axes>"
      ]
     },
     "metadata": {
      "needs_background": "light"
     },
     "output_type": "display_data"
    }
   ],
   "source": [
    "#Plot of counts of the more common skills with overall percentages\n",
    "fig = plt.figure(figsize=(100,40))\n",
    "count = [10, 10, 11, 23, 29, 31, 32,33,36]\n",
    "percentage = [33.33, 33.33, 36.67, 76.67, 96.67, 103.33,106.67,110.0,120.0]\n",
    "index = ['Matlab', 'Predictive Modeling', 'algorithms',\"data analytics\",\"SQL\",\"R\",\"Python\",\"machine learning\",\"statistics\"]\n",
    "dfnew2 = pd.DataFrame({'count': count,\n",
    "                   'percentage': percentage}, index=index)\n",
    "ax = dfnew2.plot.bar(rot=60)\n",
    "plt.title(\"Counts for Most Common Skills for Data Science Jobs \");"
   ]
  },
  {
   "attachments": {},
   "cell_type": "markdown",
   "metadata": {},
   "source": [
    "#####Summary/ Results: The skills that are most common in data science jobs (occur over 33% of postings) in Los Angeles, CA and New York City, NY are Matlab, predictive modeling, algorithms, data analytics, SQL, R, Python, machine learning, and statistics. The less common skills (under 33%) are AWS, Hive, Spark, Tableau, Artificial Intelligence, Forecasting, Excel, time series and Google Cloud."
   ]
  },
  {
   "cell_type": "code",
   "execution_count": null,
   "metadata": {},
   "outputs": [],
   "source": []
  }
 ],
 "metadata": {
  "kernelspec": {
   "display_name": "Python 3",
   "language": "python",
   "name": "python3"
  },
  "language_info": {
   "codemirror_mode": {
    "name": "ipython",
    "version": 3
   },
   "file_extension": ".py",
   "mimetype": "text/x-python",
   "name": "python",
   "nbconvert_exporter": "python",
   "pygments_lexer": "ipython3",
   "version": "3.7.3"
  }
 },
 "nbformat": 4,
 "nbformat_minor": 2
}
